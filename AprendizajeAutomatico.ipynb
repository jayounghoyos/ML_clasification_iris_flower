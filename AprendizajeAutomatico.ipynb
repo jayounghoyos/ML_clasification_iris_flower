{
 "cells": [
  {
   "cell_type": "code",
   "execution_count": null,
   "id": "5bc260b1-611a-4b4f-b432-053b5bca944f",
   "metadata": {},
   "outputs": [],
   "source": [
    "! pip install scikit-learn\n",
    "! pip install pandas\n",
    "! pip install numpy\n",
    "! pip install seaborn\n",
    "! pip install session-info"
   ]
  },
  {
   "cell_type": "code",
   "execution_count": 10,
   "id": "46539db2-9af7-4f18-9a8e-6d2ed9394d7e",
   "metadata": {},
   "outputs": [
    {
     "data": {
      "text/html": [
       "<details>\n",
       "<summary>Click to view session information</summary>\n",
       "<pre>\n",
       "-----\n",
       "matplotlib          3.9.3\n",
       "numpy               1.26.3\n",
       "pandas              2.2.3\n",
       "seaborn             0.13.2\n",
       "session_info        1.0.0\n",
       "sklearn             1.5.2\n",
       "-----\n",
       "</pre>\n",
       "<details>\n",
       "<summary>Click to view modules imported as dependencies</summary>\n",
       "<pre>\n",
       "PIL                 10.2.0\n",
       "asttokens           NA\n",
       "comm                0.2.2\n",
       "cycler              0.12.1\n",
       "cython_runtime      NA\n",
       "dateutil            2.9.0.post0\n",
       "debugpy             1.8.9\n",
       "decorator           5.1.1\n",
       "executing           2.1.0\n",
       "ipykernel           6.29.5\n",
       "jedi                0.19.2\n",
       "joblib              1.4.2\n",
       "kiwisolver          1.4.7\n",
       "mpl_toolkits        NA\n",
       "packaging           24.2\n",
       "parso               0.8.4\n",
       "pexpect             4.9.0\n",
       "platformdirs        4.3.6\n",
       "prompt_toolkit      3.0.48\n",
       "psutil              6.1.0\n",
       "ptyprocess          0.7.0\n",
       "pure_eval           0.2.3\n",
       "pydev_ipython       NA\n",
       "pydevconsole        NA\n",
       "pydevd              3.2.3\n",
       "pydevd_file_utils   NA\n",
       "pydevd_plugins      NA\n",
       "pydevd_tracing      NA\n",
       "pygments            2.18.0\n",
       "pyparsing           3.2.0\n",
       "pytz                2024.2\n",
       "scipy               1.14.1\n",
       "six                 1.16.0\n",
       "stack_data          0.6.3\n",
       "threadpoolctl       3.5.0\n",
       "tornado             6.4.2\n",
       "traitlets           5.14.3\n",
       "vscode              NA\n",
       "wcwidth             0.2.13\n",
       "zmq                 26.2.0\n",
       "</pre>\n",
       "</details> <!-- seems like this ends pre, so might as well be explicit -->\n",
       "<pre>\n",
       "-----\n",
       "IPython             8.30.0\n",
       "jupyter_client      8.6.3\n",
       "jupyter_core        5.7.2\n",
       "-----\n",
       "Python 3.12.7 (main, Dec  2 2024, 14:24:19) [GCC 11.4.0]\n",
       "Linux-6.9.3-76060903-generic-x86_64-with-glibc2.35\n",
       "-----\n",
       "Session information updated at 2024-12-07 19:55\n",
       "</pre>\n",
       "</details>"
      ],
      "text/plain": [
       "<IPython.core.display.HTML object>"
      ]
     },
     "execution_count": 10,
     "metadata": {},
     "output_type": "execute_result"
    }
   ],
   "source": [
    "import numpy as np\n",
    "import pandas as pd\n",
    "import matplotlib.pyplot as plt\n",
    "import seaborn as sns\n",
    "import sklearn\n",
    "from sklearn.svm import SVC\n",
    "from sklearn.model_selection import train_test_split, GridSearchCV\n",
    "from sklearn.datasets import load_iris\n",
    "from sklearn.metrics import accuracy_score, confusion_matrix,ConfusionMatrixDisplay,classification_report\n",
    "import pickle\n",
    "import session_info\n",
    "\n",
    "session_info.show()"
   ]
  },
  {
   "cell_type": "code",
   "execution_count": 11,
   "id": "c98bb065-5e88-447b-8108-d4943488d2d3",
   "metadata": {},
   "outputs": [],
   "source": [
    "dict_iris = load_iris(as_frame=True) # [\"data\"][:10]\n",
    "model = SVC()\n",
    "model.fit(X=dict_iris[\"data\"][:130], y=dict_iris[\"target\"][:130])\n",
    "y_pred = model.predict(dict_iris[\"data\"][130:])"
   ]
  },
  {
   "cell_type": "code",
   "execution_count": 15,
   "id": "512631e8",
   "metadata": {},
   "outputs": [
    {
     "name": "stdout",
     "output_type": "stream",
     "text": [
      "Estimacion:  [2 2 2 1 2]\n",
      "Real:  130    2\n",
      "131    2\n",
      "132    2\n",
      "133    2\n",
      "134    2\n",
      "Name: target, dtype: int64\n",
      "La precision es de: 0.9\n"
     ]
    }
   ],
   "source": [
    "y_test = dict_iris[\"target\"][130:]\n",
    "print(f\"Estimacion: \", y_pred[:5])\n",
    "print(f\"Real: \", y_test[:5])\n",
    "print(f\"La precision es de:\", accuracy_score(y_test,y_pred))"
   ]
  },
  {
   "cell_type": "code",
   "execution_count": 12,
   "id": "a4c221da",
   "metadata": {},
   "outputs": [
    {
     "data": {
      "text/plain": [
       "array([2, 2, 2, 1, 2, 2, 2, 2, 1, 2, 2, 2, 2, 2, 2, 2, 2, 2, 2, 2])"
      ]
     },
     "execution_count": 12,
     "metadata": {},
     "output_type": "execute_result"
    }
   ],
   "source": [
    "y_pred"
   ]
  },
  {
   "cell_type": "markdown",
   "id": "1d554b97",
   "metadata": {},
   "source": [
    "# Recolectar información"
   ]
  },
  {
   "cell_type": "code",
   "execution_count": 18,
   "id": "5b92320c",
   "metadata": {},
   "outputs": [
    {
     "data": {
      "text/plain": [
       "dict_keys(['data', 'target', 'frame', 'target_names', 'DESCR', 'feature_names', 'filename', 'data_module'])"
      ]
     },
     "execution_count": 18,
     "metadata": {},
     "output_type": "execute_result"
    }
   ],
   "source": [
    "# Cargar datos\n",
    "iris_dict = load_iris(as_frame=True)\n",
    "iris_dict.keys()"
   ]
  },
  {
   "cell_type": "code",
   "execution_count": 19,
   "id": "fab88e0e",
   "metadata": {},
   "outputs": [
    {
     "data": {
      "text/html": [
       "<div>\n",
       "<style scoped>\n",
       "    .dataframe tbody tr th:only-of-type {\n",
       "        vertical-align: middle;\n",
       "    }\n",
       "\n",
       "    .dataframe tbody tr th {\n",
       "        vertical-align: top;\n",
       "    }\n",
       "\n",
       "    .dataframe thead th {\n",
       "        text-align: right;\n",
       "    }\n",
       "</style>\n",
       "<table border=\"1\" class=\"dataframe\">\n",
       "  <thead>\n",
       "    <tr style=\"text-align: right;\">\n",
       "      <th></th>\n",
       "      <th>sepal length (cm)</th>\n",
       "      <th>sepal width (cm)</th>\n",
       "      <th>petal length (cm)</th>\n",
       "      <th>petal width (cm)</th>\n",
       "      <th>target</th>\n",
       "    </tr>\n",
       "  </thead>\n",
       "  <tbody>\n",
       "    <tr>\n",
       "      <th>0</th>\n",
       "      <td>5.1</td>\n",
       "      <td>3.5</td>\n",
       "      <td>1.4</td>\n",
       "      <td>0.2</td>\n",
       "      <td>0</td>\n",
       "    </tr>\n",
       "    <tr>\n",
       "      <th>1</th>\n",
       "      <td>4.9</td>\n",
       "      <td>3.0</td>\n",
       "      <td>1.4</td>\n",
       "      <td>0.2</td>\n",
       "      <td>0</td>\n",
       "    </tr>\n",
       "    <tr>\n",
       "      <th>2</th>\n",
       "      <td>4.7</td>\n",
       "      <td>3.2</td>\n",
       "      <td>1.3</td>\n",
       "      <td>0.2</td>\n",
       "      <td>0</td>\n",
       "    </tr>\n",
       "    <tr>\n",
       "      <th>3</th>\n",
       "      <td>4.6</td>\n",
       "      <td>3.1</td>\n",
       "      <td>1.5</td>\n",
       "      <td>0.2</td>\n",
       "      <td>0</td>\n",
       "    </tr>\n",
       "    <tr>\n",
       "      <th>4</th>\n",
       "      <td>5.0</td>\n",
       "      <td>3.6</td>\n",
       "      <td>1.4</td>\n",
       "      <td>0.2</td>\n",
       "      <td>0</td>\n",
       "    </tr>\n",
       "  </tbody>\n",
       "</table>\n",
       "</div>"
      ],
      "text/plain": [
       "   sepal length (cm)  sepal width (cm)  petal length (cm)  petal width (cm)  \\\n",
       "0                5.1               3.5                1.4               0.2   \n",
       "1                4.9               3.0                1.4               0.2   \n",
       "2                4.7               3.2                1.3               0.2   \n",
       "3                4.6               3.1                1.5               0.2   \n",
       "4                5.0               3.6                1.4               0.2   \n",
       "\n",
       "   target  \n",
       "0       0  \n",
       "1       0  \n",
       "2       0  \n",
       "3       0  \n",
       "4       0  "
      ]
     },
     "execution_count": 19,
     "metadata": {},
     "output_type": "execute_result"
    }
   ],
   "source": [
    "#Leer DataFrame\n",
    "df = iris_dict[\"frame\"]\n",
    "df.head()"
   ]
  },
  {
   "cell_type": "code",
   "execution_count": 21,
   "id": "b4390de4",
   "metadata": {},
   "outputs": [
    {
     "data": {
      "text/plain": [
       "(150, 5)"
      ]
     },
     "execution_count": 21,
     "metadata": {},
     "output_type": "execute_result"
    }
   ],
   "source": [
    "df.shape"
   ]
  },
  {
   "cell_type": "code",
   "execution_count": 23,
   "id": "e14c57f6",
   "metadata": {},
   "outputs": [
    {
     "data": {
      "text/plain": [
       "array(['setosa', 'versicolor', 'virginica'], dtype='<U10')"
      ]
     },
     "execution_count": 23,
     "metadata": {},
     "output_type": "execute_result"
    }
   ],
   "source": [
    "#Leer etiquetas de salida\n",
    "iris_dict[\"target_names\"]"
   ]
  },
  {
   "cell_type": "code",
   "execution_count": 24,
   "id": "a8f1752a",
   "metadata": {},
   "outputs": [
    {
     "data": {
      "text/plain": [
       "target\n",
       "0    50\n",
       "1    50\n",
       "2    50\n",
       "Name: count, dtype: int64"
      ]
     },
     "execution_count": 24,
     "metadata": {},
     "output_type": "execute_result"
    }
   ],
   "source": [
    "# Revisar balance de datos\n",
    "df[\"target\"].value_counts()"
   ]
  },
  {
   "cell_type": "code",
   "execution_count": null,
   "id": "80bb8caa",
   "metadata": {},
   "outputs": [],
   "source": []
  }
 ],
 "metadata": {
  "kernelspec": {
   "display_name": "Python 3 (ipykernel)",
   "language": "python",
   "name": "python3"
  },
  "language_info": {
   "codemirror_mode": {
    "name": "ipython",
    "version": 3
   },
   "file_extension": ".py",
   "mimetype": "text/x-python",
   "name": "python",
   "nbconvert_exporter": "python",
   "pygments_lexer": "ipython3",
   "version": "3.12.7"
  }
 },
 "nbformat": 4,
 "nbformat_minor": 5
}
